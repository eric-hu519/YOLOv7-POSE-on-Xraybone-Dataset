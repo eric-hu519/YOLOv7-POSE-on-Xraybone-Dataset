{
 "cells": [
  {
   "cell_type": "code",
   "execution_count": 2,
   "id": "eff9dedc",
   "metadata": {
    "ExecuteTime": {
     "start_time": "2023-05-07T13:47:40.268Z"
    },
    "scrolled": true
   },
   "outputs": [
    {
     "name": "stdout",
     "output_type": "stream",
     "text": [
      "\u001b[34m\u001b[1mgithub: \u001b[0m⚠️ WARNING: code is out of date by 20 commits. Use 'git pull' to update or 'git clone git@github.com:eric-hu519/YOLOv7-POSE-on-Xraybone-Datase' to download latest.\n",
      "YOLOv5 � 3c53bca torch 2.0.0+cu117 CUDA:0 (NVIDIA GeForce RTX 3080, 9987.25MB)\n",
      "\n",
      "Namespace(adam=False, artifact_alias='latest', batch_size=8, bbox_interval=-1, bucket='', cache_images=False, cfg='cfg/yolov7-w6-pose_custom.yaml', data='data/custom_kpts.yaml', device='0', entity=None, epochs=150, evolve=False, exist_ok=False, global_rank=-1, hyp='data/hyp.pose.yaml', image_weights=False, img_size=[640, 640], kpt_label=True, label_smoothing=0.0, linear_lr=False, local_rank=-1, multi_scale=False, name='exp', noautoanchor=False, nosave=False, notest=False, project='runs/train', quad=False, rect=False, resume=False, save_dir='runs/train/exp13', save_period=-1, single_cls=False, sync_bn=False, total_batch_size=8, upload_dataset=False, weights='yolov5s.pt', workers=8, world_size=1)\n",
      "\u001b[34m\u001b[1mtensorboard: \u001b[0mStart with 'tensorboard --logdir runs/train', view at http://localhost:6006/\n",
      "\u001b[34m\u001b[1mhyperparameters: \u001b[0mlr0=0.01, lrf=0.01, momentum=0.937, weight_decay=0.0005, warmup_epochs=3.0, warmup_momentum=0.8, warmup_bias_lr=0.1, box=0.05, kpt=0.1, cls=0.6, cls_pw=1.0, obj=0.7, obj_pw=1.0, iou_t=0.2, anchor_t=4.0, fl_gamma=0.0, hsv_h=0.015, hsv_s=0.7, hsv_v=0.4, degrees=0.0, translate=0.1, scale=0.5, shear=0.0, perspective=0.0, flipud=0.0, fliplr=0.5, mosaic=0.0, mixup=0.0\n",
      "\u001b[34m\u001b[1mwandb\u001b[0m: (1) Create a W&B account\n",
      "\u001b[34m\u001b[1mwandb\u001b[0m: (2) Use an existing W&B account\n",
      "\u001b[34m\u001b[1mwandb\u001b[0m: (3) Don't visualize my results\n",
      "\u001b[34m\u001b[1mwandb\u001b[0m: Enter your choice: ^C\n",
      "Traceback (most recent call last):\n",
      "  File \"train.py\", line 568, in <module>\n",
      "    train(hyp, opt, device, tb_writer)\n",
      "  File \"train.py\", line 72, in train\n",
      "    wandb_logger = WandbLogger(opt, save_dir.stem, run_id, data_dict)\n",
      "  File \"/home/erichu/Documents/YOLOv7-POSE-on-Xraybone-Dataset/utils/wandb_logging/wandb_utils.py\", line 95, in __init__\n",
      "    self.wandb_run = wandb.init(config=opt,\n",
      "  File \"/home/erichu/miniconda3/envs/xraybone/lib/python3.8/site-packages/wandb/sdk/wandb_init.py\", line 1189, in init\n",
      "    raise e\n",
      "  File \"/home/erichu/miniconda3/envs/xraybone/lib/python3.8/site-packages/wandb/sdk/wandb_init.py\", line 1162, in init\n",
      "    wi.setup(kwargs)\n",
      "  File \"/home/erichu/miniconda3/envs/xraybone/lib/python3.8/site-packages/wandb/sdk/wandb_init.py\", line 306, in setup\n",
      "    wandb_login._login(\n",
      "  File \"/home/erichu/miniconda3/envs/xraybone/lib/python3.8/site-packages/wandb/sdk/wandb_login.py\", line 298, in _login\n",
      "    wlogin.prompt_api_key()\n",
      "  File \"/home/erichu/miniconda3/envs/xraybone/lib/python3.8/site-packages/wandb/sdk/wandb_login.py\", line 221, in prompt_api_key\n",
      "    key, status = self._prompt_api_key()\n",
      "  File \"/home/erichu/miniconda3/envs/xraybone/lib/python3.8/site-packages/wandb/sdk/wandb_login.py\", line 201, in _prompt_api_key\n",
      "    key = apikey.prompt_api_key(\n",
      "  File \"/home/erichu/miniconda3/envs/xraybone/lib/python3.8/site-packages/wandb/sdk/lib/apikey.py\", line 107, in prompt_api_key\n",
      "    result = prompt_choices(\n",
      "  File \"/home/erichu/miniconda3/envs/xraybone/lib/python3.8/site-packages/wandb/util.py\", line 1265, in prompt_choices\n",
      "    choice = _prompt_choice(input_timeout=input_timeout, jupyter=jupyter)\n",
      "  File \"/home/erichu/miniconda3/envs/xraybone/lib/python3.8/site-packages/wandb/util.py\", line 1248, in _prompt_choice\n",
      "    choice = input_fn(text)\n",
      "KeyboardInterrupt\n"
     ]
    }
   ],
   "source": [
    "!python train.py --data data/custom_kpts.yaml --cfg cfg/yolov7-w6-pose_custom.yaml --hyp data/hyp.pose.yaml --device 0 --kpt-label --epochs 150 --batch-size 8"
   ]
  },
  {
   "cell_type": "code",
   "execution_count": null,
   "id": "4b9e72ee",
   "metadata": {},
   "outputs": [],
   "source": []
  }
 ],
 "metadata": {
  "kernelspec": {
   "display_name": "Python 3 (ipykernel)",
   "language": "python",
   "name": "python3"
  },
  "language_info": {
   "codemirror_mode": {
    "name": "ipython",
    "version": 3
   },
   "file_extension": ".py",
   "mimetype": "text/x-python",
   "name": "python",
   "nbconvert_exporter": "python",
   "pygments_lexer": "ipython3",
   "version": "3.8.16"
  }
 },
 "nbformat": 4,
 "nbformat_minor": 5
}
