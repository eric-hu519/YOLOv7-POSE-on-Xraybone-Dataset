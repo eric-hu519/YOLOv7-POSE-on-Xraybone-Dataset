{
 "cells": [
  {
   "cell_type": "code",
   "execution_count": 2,
   "id": "5983e2a0",
   "metadata": {
    "ExecuteTime": {
     "end_time": "2023-05-05T16:15:48.308491Z",
     "start_time": "2023-05-05T16:15:48.303137Z"
    }
   },
   "outputs": [
    {
     "ename": "IndentationError",
     "evalue": "expected an indented block (1288212561.py, line 25)",
     "output_type": "error",
     "traceback": [
      "\u001b[0;36m  Cell \u001b[0;32mIn[2], line 25\u001b[0;36m\u001b[0m\n\u001b[0;31m    cwd = os.getcwd()\u001b[0m\n\u001b[0m    ^\u001b[0m\n\u001b[0;31mIndentationError\u001b[0m\u001b[0;31m:\u001b[0m expected an indented block\n"
     ]
    }
   ],
   "source": []
  },
  {
   "cell_type": "code",
   "execution_count": null,
   "id": "fadf6065",
   "metadata": {},
   "outputs": [],
   "source": [
    "\n",
    "data = json.load(open(json_file, 'r'))\n",
    "if not os.path.exists(ana_txt_save_path):\n",
    "    os.makedirs(ana_txt_save_path)\n",
    "\n",
    "id_map = {}  # The ids of the coco dataset are not continuous! Remap and output again!\n",
    "with open(os.path.join(ana_txt_save_path, 'classes.txt'), 'w') as f:\n",
    "    # 写入classes.txt\n",
    "    for i, category in enumerate(data['categories']):\n",
    "        f.write(f\"{category['name']}\\n\")\n",
    "        id_map[category['id']] = i\n",
    "\n",
    "\n",
    "list_file = open(os.path.join(ana_txt_save_path, save_type+'.txt'), 'w')\n",
    "\n",
    "for annotations in tqdm(data['annotations']):\n",
    "    # filename = annotations[\"file_name\"]\n",
    "    img_width = annotations[\"width\"]\n",
    "    img_height = annotations[\"height\"]\n",
    "    img_id = annotations[\"image_id\"]\n",
    "    keypoints = annotations[\"keypoints\"]\n",
    "\n",
    "    # print(keypoints)\n",
    "    arry_x = np.zeros([4, 1])\n",
    "    num_1 = 0\n",
    "    for x in keypoints[0:12:3]:\n",
    "        arry_x[num_1, 0] = int((x / img_width) * xiaoshu) / xiaoshu\n",
    "        num_1 += 1\n",
    "\n",
    "    arry_y = np.zeros([4, 1])\n",
    "    num_2 = 0\n",
    "    for y in keypoints[1:12:3]:\n",
    "        arry_y[num_2, 0] = int((y / img_height) * xiaoshu) / xiaoshu\n",
    "        num_2 += 1\n",
    "\n",
    "    arry_v = np.zeros([4, 1])\n",
    "    num_3 = 0\n",
    "    for v in keypoints[2:12:3]:\n",
    "        arry_v[num_3, 0] = v\n",
    "        num_3 += 1\n",
    "\n",
    "    list_1 = []\n",
    "    num_4 = 0\n",
    "    for i in range(4):\n",
    "        list_1.append(float(arry_x[num_4]))\n",
    "        list_1.append(float(arry_y[num_4]))\n",
    "        list_1.append(float(arry_v[num_4]))\n",
    "        num_4 += 1\n",
    "\n",
    "\n",
    "    fil = img_id\n",
    "\n",
    "    cun_1 = os.path.join(ana_txt_save_path, str(fil))\n",
    "    cun_2 = cun_1 + \".txt\"\n",
    "\n",
    "    with open(cun_2, \"r\") as f:\n",
    "        read_lines = f.readlines()\n",
    "    x_1 = read_lines[0].strip().split(\",\")\n",
    "    x_2 = x_1 + list_1\n",
    "    list_xin = list(map(str, x_2))\n",
    "    list_xin = \" \".join(list_xin)\n",
    "    with open(cun_2, \"w\") as f:\n",
    "        f.write(list_xin)\n",
    "\n",
    "for img in tqdm(data['images']):\n",
    "    filename = img[\"file_name\"]\n",
    "    img_width = img[\"width\"]\n",
    "    img_height = img[\"height\"]\n",
    "    img_id = img[\"id\"]\n",
    "    head, tail = os.path.splitext(filename)\n",
    "    ana_txt_name = head + \".txt\"  # The corresponding txt name is consistent with jpg\n",
    "    os.chdir(arg.save_path)\n",
    "    os.rename(str(img_id) + \".txt\", ana_txt_name)"
   ]
  }
 ],
 "metadata": {
  "kernelspec": {
   "display_name": "Python 3 (ipykernel)",
   "language": "python",
   "name": "python3"
  },
  "language_info": {
   "codemirror_mode": {
    "name": "ipython",
    "version": 3
   },
   "file_extension": ".py",
   "mimetype": "text/x-python",
   "name": "python",
   "nbconvert_exporter": "python",
   "pygments_lexer": "ipython3",
   "version": "3.8.16"
  }
 },
 "nbformat": 4,
 "nbformat_minor": 5
}
